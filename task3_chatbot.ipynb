{
 "cells": [
  {
   "cell_type": "code",
   "execution_count": null,
   "id": "d67b5e4b-7dc6-42dd-a837-ba00d691e290",
   "metadata": {},
   "outputs": [
    {
     "name": "stderr",
     "output_type": "stream",
     "text": [
      "[nltk_data] Downloading package punkt to\n",
      "[nltk_data]     C:\\Users\\sneha\\AppData\\Roaming\\nltk_data...\n",
      "[nltk_data]   Package punkt is already up-to-date!\n"
     ]
    },
    {
     "name": "stdout",
     "output_type": "stream",
     "text": [
      "Hello! I'm a Castle Swimmer chatbot. Ask me anything about Castle Swimmer, Chapters 83-89.\n"
     ]
    },
    {
     "name": "stdin",
     "output_type": "stream",
     "text": [
      "You:  who are the main characters here?\n"
     ]
    },
    {
     "name": "stdout",
     "output_type": "stream",
     "text": [
      "Chatbot: The main characters in Castle Swimmer are Kappa, the Beacon who is central to various prophecies, and Siren, the Prince of the Shark Kingdom.\n"
     ]
    },
    {
     "name": "stdin",
     "output_type": "stream",
     "text": [
      "You:  What is Castle Swimmer about?\n"
     ]
    },
    {
     "name": "stdout",
     "output_type": "stream",
     "text": [
      "Chatbot: Castle Swimmer is a webtoon that follows the story of Kappa, the Beacon, who is prophesied to bring about change, and Siren, the Prince of the Sharks, who has a prophecy that his kingdom will be saved by killing the Beacon.\n"
     ]
    }
   ],
   "source": [
    "import nltk\n",
    "from nltk.tokenize import word_tokenize\n",
    "\n",
    "# Download the tokenizer data for NLTK (if not already downloaded)\n",
    "nltk.download('punkt')\n",
    "\n",
    "# Information about Castle Swimmer from chapters 83-89\n",
    "castle_swimmer_data = {\n",
    "    \"about\": \"Castle Swimmer is a webtoon that follows the story of Kappa, the Beacon, who is prophesied to bring about change, and Siren, the Prince of the Sharks, who has a prophecy that his kingdom will be saved by killing the Beacon.\",\n",
    "    \"main characters\": \"The main characters in Castle Swimmer are Kappa, the Beacon who is central to various prophecies, and Siren, the Prince of the Shark Kingdom.\",\n",
    "    \"chapter 83\": \"In Chapter 83, the prophecy continues to be unveiled, adding tension between Kappa and Siren as they face new challenges and growing feelings for each other.\",\n",
    "    \"chapter 84\": \"Chapter 84 deepens the bond between Kappa and Siren as they struggle with the implications of the prophecy and how it will affect their lives.\",\n",
    "    \"chapter 85\": \"In Chapter 85, tensions rise as Kappa confronts his role in the prophecy, feeling conflicted about his destiny and his relationship with Siren.\",\n",
    "    \"chapter 86\": \"Chapter 86 explores the backstory of some of the supporting characters, shedding light on their motivations and adding depth to the main conflict.\",\n",
    "    \"chapter 87\": \"In Chapter 87, Siren begins to question his role in the prophecy, wondering if there's another way to save his kingdom without sacrificing Kappa.\",\n",
    "    \"chapter 88\": \"Chapter 88 builds suspense as a new revelation about the prophecy is revealed, throwing Kappa and Siren's plans into turmoil.\",\n",
    "    \"chapter 89\": \"In Chapter 89, the characters face a major turning point, where they must decide whether to follow the prophecy or forge their own path.\"\n",
    "}\n",
    "\n",
    "# Function to process the user input and return a response\n",
    "def respond_to_query(query):\n",
    "    # Tokenize the user input\n",
    "    tokens = word_tokenize(query.lower())\n",
    "    \n",
    "    # Check for keywords to determine the appropriate response\n",
    "    if \"about\" in tokens or \"plot\" in tokens:\n",
    "        return castle_swimmer_data[\"about\"]\n",
    "    elif \"main\" in tokens or \"characters\" in tokens:\n",
    "        return castle_swimmer_data[\"main characters\"]\n",
    "    elif \"83\" in tokens:\n",
    "        return castle_swimmer_data[\"chapter 83\"]\n",
    "    elif \"84\" in tokens:\n",
    "        return castle_swimmer_data[\"chapter 84\"]\n",
    "    elif \"85\" in tokens:\n",
    "        return castle_swimmer_data[\"chapter 85\"]\n",
    "    elif \"86\" in tokens:\n",
    "        return castle_swimmer_data[\"chapter 86\"]\n",
    "    elif \"87\" in tokens:\n",
    "        return castle_swimmer_data[\"chapter 87\"]\n",
    "    elif \"88\" in tokens:\n",
    "        return castle_swimmer_data[\"chapter 88\"]\n",
    "    elif \"89\" in tokens:\n",
    "        return castle_swimmer_data[\"chapter 89\"]\n",
    "    else:\n",
    "        return \"Sorry, I don't have information on that. Try asking about the plot, main characters, or specific chapters.\"\n",
    "\n",
    "# Main chatbot loop\n",
    "def chatbot():\n",
    "    print(\"Hello! I'm a Castle Swimmer chatbot. Ask me anything about Castle Swimmer, Chapters 83-89.\")\n",
    "    while True:\n",
    "        user_input = input(\"You: \")\n",
    "        if user_input.lower() in ['exit', 'quit']:\n",
    "            print(\"Goodbye!\")\n",
    "            break\n",
    "        response = respond_to_query(user_input)\n",
    "        print(f\"Chatbot: {response}\")\n",
    "\n",
    "# Run the chatbot\n",
    "if __name__ == \"__main__\":\n",
    "    chatbot()\n"
   ]
  },
  {
   "cell_type": "code",
   "execution_count": null,
   "id": "de512458-31c1-4b4c-8bca-5aea2fadaf7f",
   "metadata": {},
   "outputs": [],
   "source": []
  }
 ],
 "metadata": {
  "kernelspec": {
   "display_name": "Python 3 (ipykernel)",
   "language": "python",
   "name": "python3"
  },
  "language_info": {
   "codemirror_mode": {
    "name": "ipython",
    "version": 3
   },
   "file_extension": ".py",
   "mimetype": "text/x-python",
   "name": "python",
   "nbconvert_exporter": "python",
   "pygments_lexer": "ipython3",
   "version": "3.12.2"
  }
 },
 "nbformat": 4,
 "nbformat_minor": 5
}
