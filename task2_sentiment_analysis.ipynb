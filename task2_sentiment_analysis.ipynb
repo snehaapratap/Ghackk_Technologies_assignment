{
 "cells": [
  {
   "cell_type": "code",
   "execution_count": 4,
   "id": "b677e4e3-2101-43a2-8133-a0a68057a27c",
   "metadata": {},
   "outputs": [
    {
     "name": "stderr",
     "output_type": "stream",
     "text": [
      "[nltk_data] Downloading package punkt to\n",
      "[nltk_data]     C:\\Users\\sneha\\AppData\\Roaming\\nltk_data...\n",
      "[nltk_data]   Package punkt is already up-to-date!\n"
     ]
    },
    {
     "data": {
      "text/plain": [
       "True"
      ]
     },
     "execution_count": 4,
     "metadata": {},
     "output_type": "execute_result"
    }
   ],
   "source": [
    "import nltk\n",
    "nltk.download('punkt')"
   ]
  },
  {
   "cell_type": "code",
   "execution_count": 5,
   "id": "675e1066-9883-4192-b218-63166151fe30",
   "metadata": {},
   "outputs": [
    {
     "name": "stdout",
     "output_type": "stream",
     "text": [
      "Positive Comments: 66.67%\n",
      "Negative Comments: 0.00%\n",
      "Neutral Comments: 33.33%\n"
     ]
    }
   ],
   "source": [
    "from textblob import TextBlob\n",
    "\n",
    "# Sample user comments about manga and manhwa\n",
    "comments = [\n",
    "    \"I love manga, it's so creative and diverse!\",\n",
    "    \"Manhwa is really underrated, I enjoy it a lot.\",\n",
    "    \"I don't like how some manhwa stories develop.\",\n",
    "    \"Both have their merits, but manga has better storylines.\",\n",
    "    \"I'm not a fan of either, they both seem overrated to me.\",\n",
    "    \"Manhwa feels more modern and fresh compared to manga.\"\n",
    "]\n",
    "\n",
    "# Counters for sentiment classification\n",
    "positive_count = 0\n",
    "negative_count = 0\n",
    "neutral_count = 0\n",
    "\n",
    "# Analyze the sentiment of each comment\n",
    "for comment in comments:\n",
    "    analysis = TextBlob(comment)\n",
    "    polarity = analysis.sentiment.polarity\n",
    "\n",
    "    if polarity > 0:\n",
    "        positive_count += 1\n",
    "    elif polarity < 0:\n",
    "        negative_count += 1\n",
    "    else:\n",
    "        neutral_count += 1\n",
    "\n",
    "# Total comments\n",
    "total_comments = len(comments)\n",
    "\n",
    "# Calculate percentages\n",
    "positive_percentage = (positive_count / total_comments) * 100\n",
    "negative_percentage = (negative_count / total_comments) * 100\n",
    "neutral_percentage = (neutral_count / total_comments) * 100\n",
    "\n",
    "# Print results\n",
    "print(f\"Positive Comments: {positive_percentage:.2f}%\")\n",
    "print(f\"Negative Comments: {negative_percentage:.2f}%\")\n",
    "print(f\"Neutral Comments: {neutral_percentage:.2f}%\")\n"
   ]
  }
 ],
 "metadata": {
  "kernelspec": {
   "display_name": "Python 3 (ipykernel)",
   "language": "python",
   "name": "python3"
  },
  "language_info": {
   "codemirror_mode": {
    "name": "ipython",
    "version": 3
   },
   "file_extension": ".py",
   "mimetype": "text/x-python",
   "name": "python",
   "nbconvert_exporter": "python",
   "pygments_lexer": "ipython3",
   "version": "3.12.2"
  }
 },
 "nbformat": 4,
 "nbformat_minor": 5
}
