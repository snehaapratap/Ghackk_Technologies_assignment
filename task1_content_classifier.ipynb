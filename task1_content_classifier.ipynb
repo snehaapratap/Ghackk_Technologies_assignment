{
 "cells": [
  {
   "cell_type": "code",
   "execution_count": 12,
   "id": "7cf5b6c6-85d6-4a4f-9b76-96b58f4c5cff",
   "metadata": {},
   "outputs": [
    {
     "name": "stdout",
     "output_type": "stream",
     "text": [
      "Model accuracy: 33.33%\n",
      "Description: A girl battles evil forces while falling in love.\n",
      "Predicted Category: romance\n",
      "\n",
      "Description: A hero must save his world from the dark lord.\n",
      "Predicted Category: fantasy\n",
      "\n"
     ]
    }
   ],
   "source": [
    "import pandas as pd\n",
    "from sklearn.feature_extraction.text import TfidfVectorizer\n",
    "from sklearn.model_selection import train_test_split\n",
    "from sklearn.tree import DecisionTreeClassifier\n",
    "from sklearn.metrics import accuracy_score\n",
    "\n",
    "# Sample dataset\n",
    "data = [\n",
    "    {\"description\": \"A high school girl finds herself in love triangles, facing social pressure and romance.\", \"category\": \"romance\"},\n",
    "    {\"description\": \"A group of heroes sets off to defeat the dragon terrorizing the kingdom.\", \"category\": \"fantasy\"},\n",
    "    {\"description\": \"A boy gains powers to fight evil forces threatening the city.\", \"category\": \"action\"},\n",
    "    {\"description\": \"Two childhood friends reconnect and their feelings for each other grow into love.\", \"category\": \"romance\"},\n",
    "    {\"description\": \"An ancient artifact gives its owner immense powers, but it comes with a curse.\", \"category\": \"fantasy\"},\n",
    "    {\"description\": \"A detective is on the hunt for a criminal mastermind who is planning a heist.\", \"category\": \"action\"},\n",
    "    {\"description\": \"A girl discovers a hidden world of magic and mythical creatures.\", \"category\": \"fantasy\"},\n",
    "    {\"description\": \"A young couple faces hardships but their love grows stronger through it all.\", \"category\": \"romance\"},\n",
    "    {\"description\": \"Warriors must band together to defeat an enemy force that threatens the world.\", \"category\": \"action\"},\n",
    "    {\"description\": \"A prince must choose between love and duty while saving his kingdom.\", \"category\": \"romance\"}\n",
    "]\n",
    "\n",
    "# Convert the data into a pandas DataFrame\n",
    "df = pd.DataFrame(data)\n",
    "\n",
    "# Feature and label extraction\n",
    "X = df['description']\n",
    "y = df['category']\n",
    "\n",
    "# Convert text data into numerical features using TfidfVectorizer\n",
    "tfidf_vectorizer = TfidfVectorizer()\n",
    "X_tfidf = tfidf_vectorizer.fit_transform(X)\n",
    "\n",
    "# Split the dataset into training and testing sets\n",
    "X_train, X_test, y_train, y_test = train_test_split(X_tfidf, y, test_size=0.3, random_state=42)\n",
    "\n",
    "# Initialize and train a Decision Tree classifier with controlled depth to avoid overfitting\n",
    "dt_classifier = DecisionTreeClassifier(max_depth=5, random_state=42)\n",
    "dt_classifier.fit(X_train, y_train)\n",
    "\n",
    "# Make predictions on the test set\n",
    "y_pred = dt_classifier.predict(X_test)\n",
    "\n",
    "# Evaluate the accuracy of the model\n",
    "accuracy = accuracy_score(y_test, y_pred)\n",
    "print(f\"Model accuracy: {accuracy * 100:.2f}%\")\n",
    "\n",
    "# Sample predictions\n",
    "sample_descriptions = [\"A girl battles evil forces while falling in love.\", \n",
    "                       \"A hero must save his world from the dark lord.\"]\n",
    "sample_tfidf = tfidf_vectorizer.transform(sample_descriptions)\n",
    "predictions = dt_classifier.predict(sample_tfidf)\n",
    "\n",
    "for desc, pred in zip(sample_descriptions, predictions):\n",
    "    print(f\"Description: {desc}\\nPredicted Category: {pred}\\n\")\n"
   ]
  },
  {
   "cell_type": "code",
   "execution_count": null,
   "id": "ce5d4dad-81a5-44d8-af6c-e12c2119a464",
   "metadata": {},
   "outputs": [],
   "source": []
  }
 ],
 "metadata": {
  "kernelspec": {
   "display_name": "Python 3 (ipykernel)",
   "language": "python",
   "name": "python3"
  },
  "language_info": {
   "codemirror_mode": {
    "name": "ipython",
    "version": 3
   },
   "file_extension": ".py",
   "mimetype": "text/x-python",
   "name": "python",
   "nbconvert_exporter": "python",
   "pygments_lexer": "ipython3",
   "version": "3.12.2"
  }
 },
 "nbformat": 4,
 "nbformat_minor": 5
}
